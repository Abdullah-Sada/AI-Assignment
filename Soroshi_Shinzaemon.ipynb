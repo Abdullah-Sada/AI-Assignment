{
  "nbformat": 4,
  "nbformat_minor": 0,
  "metadata": {
    "colab": {
      "provenance": [],
      "authorship_tag": "ABX9TyMsD2mStyVjj8ufUv5MVnYh",
      "include_colab_link": true
    },
    "kernelspec": {
      "name": "python3",
      "display_name": "Python 3"
    },
    "language_info": {
      "name": "python"
    }
  },
  "cells": [
    {
      "cell_type": "markdown",
      "metadata": {
        "id": "view-in-github",
        "colab_type": "text"
      },
      "source": [
        "<a href=\"https://colab.research.google.com/github/Abdullah-Sada/AI-Assignment/blob/main/Soroshi_Shinzaemon.ipynb\" target=\"_parent\"><img src=\"https://colab.research.google.com/assets/colab-badge.svg\" alt=\"Open In Colab\"/></a>"
      ]
    },
    {
      "cell_type": "markdown",
      "source": [
        "Problem 1"
      ],
      "metadata": {
        "id": "hlJG8HUXpLLc"
      }
    },
    {
      "cell_type": "code",
      "execution_count": 1,
      "metadata": {
        "id": "tk058r4HnNRG"
      },
      "outputs": [],
      "source": [
        "grain = 1\n",
        "grain_per_day = []\n",
        "for day in range(100):\n",
        "  if day == 0:\n",
        "    grain_per_day.append(grain)\n",
        "  else:\n",
        "    grain_per_day.append((grain*2)**day)"
      ]
    },
    {
      "cell_type": "code",
      "source": [
        "print(\"The total rice grains after 100 days:\", sum(grain_per_day))"
      ],
      "metadata": {
        "colab": {
          "base_uri": "https://localhost:8080/"
        },
        "id": "5cZp86idpZ5A",
        "outputId": "1f8f81ed-bf0e-40f4-b242-8e565ae86668"
      },
      "execution_count": 2,
      "outputs": [
        {
          "output_type": "stream",
          "name": "stdout",
          "text": [
            "The total rice grains after 100 days: 1267650600228229401496703205375\n"
          ]
        }
      ]
    },
    {
      "cell_type": "code",
      "source": [
        "import matplotlib.pyplot as plt\n",
        "%matplotlib inline\n",
        "\n",
        "plt.title(\"Grains per day\")\n",
        "plt.xlabel(\"Days\")\n",
        "plt.ylabel(\"Grains\")\n",
        "plt.plot(grain_per_day)  # Enter the variable name of the list in \"List name\"\n",
        "plt.show()"
      ],
      "metadata": {
        "colab": {
          "base_uri": "https://localhost:8080/",
          "height": 472
        },
        "id": "P7eg-TVgp6Wb",
        "outputId": "a1212ba1-0f4c-455e-82ae-2435bb4185c9"
      },
      "execution_count": null,
      "outputs": [
        {
          "output_type": "display_data",
          "data": {
            "text/plain": [
              "<Figure size 640x480 with 1 Axes>"
            ],
            "image/png": "[encoded data removed]"
          },
          "metadata": {}
        }
      ]
    },
    {
      "cell_type": "markdown",
      "source": [
        "Problem 2"
      ],
      "metadata": {
        "id": "DXq-bCs9qYbN"
      }
    },
    {
      "cell_type": "code",
      "source": [
        "def compute_grains_per_day(days=100):\n",
        "  grain = 1\n",
        "  grain_per_day = []\n",
        "  for day in range(days):\n",
        "    if day == 0:\n",
        "      grain_per_day.append(grain)\n",
        "    else:\n",
        "      grain_per_day.append((grain*2)**day)\n",
        "  print(\"The total rice grains after: \", sum(grain_per_day))"
      ],
      "metadata": {
        "id": "TpdBP_xmqXNZ"
      },
      "execution_count": 14,
      "outputs": []
    },
    {
      "cell_type": "code",
      "source": [
        "compute_grains_per_day(80)"
      ],
      "metadata": {
        "colab": {
          "base_uri": "https://localhost:8080/"
        },
        "id": "BGtftG7yrjin",
        "outputId": "a5f3014d-a39b-4c5b-9aa0-54f1cffddb26"
      },
      "execution_count": 17,
      "outputs": [
        {
          "output_type": "stream",
          "name": "stdout",
          "text": [
            "The total rice grains after:  1208925819614629174706175\n"
          ]
        }
      ]
    },
    {
      "cell_type": "markdown",
      "source": [
        "Problem 3"
      ],
      "metadata": {
        "id": "bGrHjibNsGKp"
      }
    },
    {
      "cell_type": "code",
      "source": [
        "grain_in_bowl=20000\n",
        "grains_per_day = grain_in_bowl*2\n",
        "\n",
        "def compute_how_many_days(people, grains):\n",
        "  total_grains_per_day = people*grains_per_day\n",
        "  days = grains/total_grains_per_day\n",
        "  print(\"how many days\", days)\n",
        "\n",
        "compute_how_many_days(3,1000000000)"
      ],
      "metadata": {
        "colab": {
          "base_uri": "https://localhost:8080/"
        },
        "id": "6H6pEARoruue",
        "outputId": "a8c7bca9-74b5-4fbd-fcdf-e88d2f1caeb7"
      },
      "execution_count": 18,
      "outputs": [
        {
          "output_type": "stream",
          "name": "stdout",
          "text": [
            "how many days 8333.333333333334\n"
          ]
        }
      ]
    }
  ]
}