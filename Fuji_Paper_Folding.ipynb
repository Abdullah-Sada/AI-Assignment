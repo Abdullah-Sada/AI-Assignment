{
  "nbformat": 4,
  "nbformat_minor": 0,
  "metadata": {
    "colab": {
      "provenance": [],
      "authorship_tag": "ABX9TyPxrxe+29bltG/scBouucxz",
      "include_colab_link": true
    },
    "kernelspec": {
      "name": "python3",
      "display_name": "Python 3"
    },
    "language_info": {
      "name": "python"
    }
  },
  "cells": [
    {
      "cell_type": "markdown",
      "metadata": {
        "id": "view-in-github",
        "colab_type": "text"
      },
      "source": [
        "<a href=\"https://colab.research.google.com/github/Abdullah-Sada/AI-Assignment/blob/main/Fuji_Paper_Folding.ipynb\" target=\"_parent\"><img src=\"https://colab.research.google.com/assets/colab-badge.svg\" alt=\"Open In Colab\"/></a>"
      ]
    },
    {
      "cell_type": "markdown",
      "source": [
        "Problem 1"
      ],
      "metadata": {
        "id": "hLboOMkutsX7"
      }
    },
    {
      "cell_type": "code",
      "source": [
        "#Problem 1\n",
        "\n",
        "Thickness = 0.00008\n",
        "MT_Fuji = 3776\n",
        "fold_times = 1\n",
        "current_thickness = 0\n",
        "while (current_thickness < MT_Fuji):\n",
        "  current_thickness = Thickness*(2**fold_times)\n",
        "  fold_times+=1\n",
        "print(\"exceeded MT Fuji on the {}th fold\".format(fold_times))\n",
        "\n",
        "#End of problem 1"
      ],
      "metadata": {
        "colab": {
          "base_uri": "https://localhost:8080/"
        },
        "id": "5L6FmMp0tqUR",
        "outputId": "35981486-6cdf-4243-aa93-08f390ed255b"
      },
      "execution_count": 1,
      "outputs": [
        {
          "output_type": "stream",
          "name": "stdout",
          "text": [
            "exceeded MT Fuji on the 27th fold\n"
          ]
        }
      ]
    },
    {
      "cell_type": "code",
      "execution_count": 11,
      "metadata": {
        "id": "cPGH794ktZzu",
        "colab": {
          "base_uri": "https://localhost:8080/"
        },
        "outputId": "9c85be85-544c-47df-ac8c-efedf1b39765"
      },
      "outputs": [
        {
          "output_type": "stream",
          "name": "stdout",
          "text": [
            "reached the closest non star on the 60th fold\n"
          ]
        }
      ],
      "source": [
        "#Problem 2\n",
        "# the distance in light years\n",
        "Closest_non_Sun_Star = 4.4\n",
        "\n",
        "#one light year\n",
        "Light_year = 9.5\n",
        "\n",
        "# the real distance in km\n",
        "Distance = (9.5*4.4)*1000000000\n",
        "\n",
        "def calculate_folds_from_distance(distance):\n",
        "\n",
        "  problem2_fold_times = 1\n",
        "  problem2_current_thickness = 0\n",
        "\n",
        "  while ((problem2_current_thickness//1000) < distance):\n",
        "    problem2_current_thickness = Thickness*(2**problem2_fold_times)\n",
        "    problem2_fold_times+=1\n",
        "\n",
        "  return problem2_fold_times\n",
        "\n",
        "print(\"reached the closest non star on the {}th fold\".format(calculate_folds_from_distance(Distance)))\n",
        "\n",
        "#End of problem 2"
      ]
    },
    {
      "cell_type": "code",
      "source": [
        "#Problem 3\n",
        "def calculate_length_of_paper_from_folds(folds):\n",
        "  Problem3_Thickness = 0.00008\n",
        "  length = (Problem3_Thickness/6)*((2**folds)+4)*(2**folds-1)\n",
        "  return length\n",
        "\n",
        "#distance to the moon in meters\n",
        "Distance_to_the_moon = 384400*1000\n",
        "\n",
        "print(\"the length of paper needed to be folded to reach the Moon is {}m\".format(calculate_length_of_paper_from_folds(calculate_folds_from_distance(Distance_to_the_moon))))\n",
        "print(\"the length of paper needed to be folded to reach the MT Fuji is {}m\".format(calculate_length_of_paper_from_folds(calculate_folds_from_distance(MT_Fuji))))\n",
        "print(\"the length of paper needed to be folded to reach the Non-sun Star is {}m\".format(calculate_length_of_paper_from_folds(calculate_folds_from_distance(Distance))))\n"
      ],
      "metadata": {
        "colab": {
          "base_uri": "https://localhost:8080/"
        },
        "id": "VIWestrkwgq0",
        "outputId": "378b3c34-d4a5-4ba5-d694-6f1225e0e586"
      },
      "execution_count": 12,
      "outputs": [
        {
          "output_type": "stream",
          "name": "stdout",
          "text": [
            "the length of paper needed to be folded to reach the Moon is 4.3269140487790247e+27m\n",
            "the length of paper needed to be folded to reach the MT Fuji is 2.5185954575854534e+17m\n",
            "the length of paper needed to be folded to reach the Non-sun Star is 1.772303994379888e+31m\n"
          ]
        }
      ]
    }
  ]
}